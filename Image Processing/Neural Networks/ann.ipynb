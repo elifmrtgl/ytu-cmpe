{
  "nbformat": 4,
  "nbformat_minor": 0,
  "metadata": {
    "colab": {
      "provenance": []
    },
    "kernelspec": {
      "name": "python3",
      "display_name": "Python 3"
    },
    "language_info": {
      "name": "python"
    },
    "accelerator": "GPU",
    "gpuClass": "standard"
  },
  "cells": [
    {
      "cell_type": "code",
      "execution_count": 55,
      "metadata": {
        "id": "aPrwtVrnmCHs"
      },
      "outputs": [],
      "source": [
        "import numpy as np\n",
        "import pandas as pd\n",
        "import tensorflow as tf\n",
        "from sklearn.model_selection import train_test_split"
      ]
    },
    {
      "cell_type": "code",
      "source": [
        "from tensorflow.keras.datasets import cifar10\n",
        "(X_train, y_train), (X_test, y_test) = cifar10.load_data()"
      ],
      "metadata": {
        "id": "5anfq_5XmPjc"
      },
      "execution_count": 56,
      "outputs": []
    },
    {
      "cell_type": "code",
      "source": [
        "print(f\"X Train Size: {len(X_train)}\\n X Test Size: {len(X_test)}\" )"
      ],
      "metadata": {
        "colab": {
          "base_uri": "https://localhost:8080/"
        },
        "id": "PNWZEwdOmRdG",
        "outputId": "129cb9fd-457b-4b04-f5f0-24044a37af6a"
      },
      "execution_count": 57,
      "outputs": [
        {
          "output_type": "stream",
          "name": "stdout",
          "text": [
            "X Train Size: 50000\n",
            " X Test Size: 10000\n"
          ]
        }
      ]
    },
    {
      "cell_type": "code",
      "source": [
        "X_train, X_val, y_train, y_val = train_test_split(X_train, y_train, test_size=0.20, random_state=42)"
      ],
      "metadata": {
        "id": "qFxUpl9VmTew"
      },
      "execution_count": 58,
      "outputs": []
    },
    {
      "cell_type": "code",
      "source": [
        "print(f\"X Train Size: {len(X_train)}\\n X Val Size: {len(X_val)}\" )"
      ],
      "metadata": {
        "colab": {
          "base_uri": "https://localhost:8080/"
        },
        "id": "djCtRrBimVAK",
        "outputId": "af283604-1e5d-43c0-bb8e-7d55f10951e1"
      },
      "execution_count": 59,
      "outputs": [
        {
          "output_type": "stream",
          "name": "stdout",
          "text": [
            "X Train Size: 40000\n",
            " X Val Size: 10000\n"
          ]
        }
      ]
    },
    {
      "cell_type": "code",
      "source": [
        "from tensorflow.keras.utils import to_categorical\n",
        "print(\"once: \" + str(y_train[5]))\n",
        "\n",
        "y_train = to_categorical(y_train,10)\n",
        "y_test = to_categorical(y_test,10)\n",
        "y_val = to_categorical(y_val,10)\n",
        "\n",
        "print(\"sonra: \" + str(y_train[5]))"
      ],
      "metadata": {
        "colab": {
          "base_uri": "https://localhost:8080/"
        },
        "id": "A3TT_9zrmYOO",
        "outputId": "7484a1be-e325-485d-83be-3b7e2d9bad8b"
      },
      "execution_count": 60,
      "outputs": [
        {
          "output_type": "stream",
          "name": "stdout",
          "text": [
            "once: [3]\n",
            "sonra: [0. 0. 0. 1. 0. 0. 0. 0. 0. 0.]\n"
          ]
        }
      ]
    },
    {
      "cell_type": "markdown",
      "source": [
        "**MODEL - 0**"
      ],
      "metadata": {
        "id": "V2sFs-vT9PZv"
      }
    },
    {
      "cell_type": "code",
      "source": [
        "model = tf.keras.Sequential()\n",
        "model.add(tf.keras.layers.Conv2D(32,\n",
        "                                 kernel_size=(3,3),\n",
        "                                 strides=(1,1),\n",
        "                                 padding=\"same\",\n",
        "                                 activation=\"relu\",\n",
        "                                 input_shape=(32,32,3))) # 30*30*32\n",
        "model.add( tf.keras.layers.Dropout(0.20))                               \n",
        "\n",
        "model.add(tf.keras.layers.Conv2D(32,\n",
        "                                 kernel_size=(3,3),\n",
        "                                 strides=(1,1),\n",
        "                                 padding=\"same\",\n",
        "                                 activation=\"relu\")) #28*28*32\n",
        "model.add( tf.keras.layers.Dropout(0.25))\n",
        "\n",
        "model.add(tf.keras.layers.Conv2D(32,\n",
        "                                 kernel_size=(3,3),\n",
        "                                 strides=(1,1),\n",
        "                                 padding=\"same\",\n",
        "                                 activation=\"relu\")) #26*26*32\n",
        "\n",
        "model.add(tf.keras.layers.MaxPooling2D((2,2))) #13*13*32\n",
        "model.add( tf.keras.layers.Dropout(0.30))\n",
        "\n",
        "model.add(tf.keras.layers.Flatten())\n",
        "model.add(tf.keras.layers.Dense(256, activation=\"relu\"))\n",
        "model.add( tf.keras.layers.Dropout(0.5))\n",
        "\n",
        "model.add(tf.keras.layers.Dense(10, activation=\"softmax\"))\n",
        "model.compile(optimizer=\"adam\",\n",
        "              loss='categorical_crossentropy',\n",
        "              metrics=[\"accuracy\"])"
      ],
      "metadata": {
        "id": "n8hS4AmQ9NOU"
      },
      "execution_count": 61,
      "outputs": []
    },
    {
      "cell_type": "code",
      "source": [
        "results = model.fit(X_train, y_train, epochs=35, batch_size = 32, validation_data=(X_val, y_val))"
      ],
      "metadata": {
        "colab": {
          "base_uri": "https://localhost:8080/"
        },
        "id": "OhUEpAWw9TKL",
        "outputId": "d9cbc0ed-3f36-4006-bb0e-1b9bde4724a5"
      },
      "execution_count": 62,
      "outputs": [
        {
          "output_type": "stream",
          "name": "stdout",
          "text": [
            "Epoch 1/35\n",
            "1250/1250 [==============================] - 8s 6ms/step - loss: 2.7284 - accuracy: 0.1926 - val_loss: 1.7288 - val_accuracy: 0.3809\n",
            "Epoch 2/35\n",
            "1250/1250 [==============================] - 7s 6ms/step - loss: 1.7066 - accuracy: 0.3820 - val_loss: 1.4982 - val_accuracy: 0.4666\n",
            "Epoch 3/35\n",
            "1250/1250 [==============================] - 8s 6ms/step - loss: 1.5232 - accuracy: 0.4516 - val_loss: 1.4119 - val_accuracy: 0.5129\n",
            "Epoch 4/35\n",
            "1250/1250 [==============================] - 8s 6ms/step - loss: 1.4268 - accuracy: 0.4879 - val_loss: 1.2861 - val_accuracy: 0.5615\n",
            "Epoch 5/35\n",
            "1250/1250 [==============================] - 8s 6ms/step - loss: 1.3564 - accuracy: 0.5177 - val_loss: 1.2390 - val_accuracy: 0.5687\n",
            "Epoch 6/35\n",
            "1250/1250 [==============================] - 7s 6ms/step - loss: 1.3077 - accuracy: 0.5343 - val_loss: 1.1836 - val_accuracy: 0.5881\n",
            "Epoch 7/35\n",
            "1250/1250 [==============================] - 8s 6ms/step - loss: 1.2662 - accuracy: 0.5541 - val_loss: 1.1289 - val_accuracy: 0.6071\n",
            "Epoch 8/35\n",
            "1250/1250 [==============================] - 8s 6ms/step - loss: 1.2373 - accuracy: 0.5648 - val_loss: 1.1551 - val_accuracy: 0.6072\n",
            "Epoch 9/35\n",
            "1250/1250 [==============================] - 7s 6ms/step - loss: 1.1955 - accuracy: 0.5767 - val_loss: 1.1178 - val_accuracy: 0.6144\n",
            "Epoch 10/35\n",
            "1250/1250 [==============================] - 8s 6ms/step - loss: 1.1660 - accuracy: 0.5855 - val_loss: 1.0837 - val_accuracy: 0.6150\n",
            "Epoch 11/35\n",
            "1250/1250 [==============================] - 8s 6ms/step - loss: 1.1405 - accuracy: 0.5975 - val_loss: 1.1124 - val_accuracy: 0.6142\n",
            "Epoch 12/35\n",
            "1250/1250 [==============================] - 7s 6ms/step - loss: 1.1298 - accuracy: 0.6033 - val_loss: 1.0993 - val_accuracy: 0.6220\n",
            "Epoch 13/35\n",
            "1250/1250 [==============================] - 8s 6ms/step - loss: 1.1043 - accuracy: 0.6132 - val_loss: 1.0632 - val_accuracy: 0.6256\n",
            "Epoch 14/35\n",
            "1250/1250 [==============================] - 8s 6ms/step - loss: 1.0854 - accuracy: 0.6208 - val_loss: 1.0539 - val_accuracy: 0.6382\n",
            "Epoch 15/35\n",
            "1250/1250 [==============================] - 7s 6ms/step - loss: 1.0586 - accuracy: 0.6306 - val_loss: 1.0532 - val_accuracy: 0.6345\n",
            "Epoch 16/35\n",
            "1250/1250 [==============================] - 8s 6ms/step - loss: 1.0561 - accuracy: 0.6308 - val_loss: 1.0119 - val_accuracy: 0.6549\n",
            "Epoch 17/35\n",
            "1250/1250 [==============================] - 8s 6ms/step - loss: 1.0286 - accuracy: 0.6374 - val_loss: 1.0414 - val_accuracy: 0.6427\n",
            "Epoch 18/35\n",
            "1250/1250 [==============================] - 7s 6ms/step - loss: 1.0249 - accuracy: 0.6412 - val_loss: 0.9815 - val_accuracy: 0.6620\n",
            "Epoch 19/35\n",
            "1250/1250 [==============================] - 7s 6ms/step - loss: 1.0026 - accuracy: 0.6493 - val_loss: 1.0288 - val_accuracy: 0.6471\n",
            "Epoch 20/35\n",
            "1250/1250 [==============================] - 7s 6ms/step - loss: 1.0015 - accuracy: 0.6515 - val_loss: 0.9831 - val_accuracy: 0.6661\n",
            "Epoch 21/35\n",
            "1250/1250 [==============================] - 7s 6ms/step - loss: 0.9814 - accuracy: 0.6553 - val_loss: 1.0069 - val_accuracy: 0.6527\n",
            "Epoch 22/35\n",
            "1250/1250 [==============================] - 8s 6ms/step - loss: 0.9759 - accuracy: 0.6612 - val_loss: 1.0152 - val_accuracy: 0.6500\n",
            "Epoch 23/35\n",
            "1250/1250 [==============================] - 8s 6ms/step - loss: 0.9546 - accuracy: 0.6670 - val_loss: 0.9750 - val_accuracy: 0.6687\n",
            "Epoch 24/35\n",
            "1250/1250 [==============================] - 7s 6ms/step - loss: 0.9653 - accuracy: 0.6605 - val_loss: 1.0169 - val_accuracy: 0.6539\n",
            "Epoch 25/35\n",
            "1250/1250 [==============================] - 7s 6ms/step - loss: 0.9481 - accuracy: 0.6690 - val_loss: 1.0339 - val_accuracy: 0.6513\n",
            "Epoch 26/35\n",
            "1250/1250 [==============================] - 8s 6ms/step - loss: 0.9294 - accuracy: 0.6798 - val_loss: 0.9877 - val_accuracy: 0.6571\n",
            "Epoch 27/35\n",
            "1250/1250 [==============================] - 7s 6ms/step - loss: 0.9261 - accuracy: 0.6788 - val_loss: 1.0003 - val_accuracy: 0.6565\n",
            "Epoch 28/35\n",
            "1250/1250 [==============================] - 7s 6ms/step - loss: 0.8950 - accuracy: 0.6912 - val_loss: 1.0196 - val_accuracy: 0.6575\n",
            "Epoch 29/35\n",
            "1250/1250 [==============================] - 7s 6ms/step - loss: 0.8951 - accuracy: 0.6883 - val_loss: 1.0202 - val_accuracy: 0.6549\n",
            "Epoch 30/35\n",
            "1250/1250 [==============================] - 7s 6ms/step - loss: 0.9015 - accuracy: 0.6864 - val_loss: 0.9789 - val_accuracy: 0.6690\n",
            "Epoch 31/35\n",
            "1250/1250 [==============================] - 8s 6ms/step - loss: 0.8848 - accuracy: 0.6946 - val_loss: 0.9908 - val_accuracy: 0.6662\n",
            "Epoch 32/35\n",
            "1250/1250 [==============================] - 8s 6ms/step - loss: 0.8771 - accuracy: 0.6970 - val_loss: 0.9977 - val_accuracy: 0.6662\n",
            "Epoch 33/35\n",
            "1250/1250 [==============================] - 8s 6ms/step - loss: 0.8767 - accuracy: 0.6969 - val_loss: 1.0049 - val_accuracy: 0.6668\n",
            "Epoch 34/35\n",
            "1250/1250 [==============================] - 8s 6ms/step - loss: 0.8628 - accuracy: 0.7020 - val_loss: 0.9850 - val_accuracy: 0.6686\n",
            "Epoch 35/35\n",
            "1250/1250 [==============================] - 8s 6ms/step - loss: 0.8562 - accuracy: 0.7056 - val_loss: 1.0133 - val_accuracy: 0.6625\n"
          ]
        }
      ]
    },
    {
      "cell_type": "code",
      "source": [
        "model.evaluate(X_test, y_test)"
      ],
      "metadata": {
        "colab": {
          "base_uri": "https://localhost:8080/"
        },
        "id": "FGH1wb909Vjs",
        "outputId": "cdb8a4f6-133c-436c-d0ab-acb739e0cf20"
      },
      "execution_count": 63,
      "outputs": [
        {
          "output_type": "stream",
          "name": "stdout",
          "text": [
            "313/313 [==============================] - 1s 4ms/step - loss: 1.0373 - accuracy: 0.6445\n"
          ]
        },
        {
          "output_type": "execute_result",
          "data": {
            "text/plain": [
              "[1.0373345613479614, 0.6445000171661377]"
            ]
          },
          "metadata": {},
          "execution_count": 63
        }
      ]
    },
    {
      "cell_type": "markdown",
      "source": [
        "**MODEL - 1**"
      ],
      "metadata": {
        "id": "148PGgf59b-W"
      }
    },
    {
      "cell_type": "code",
      "source": [
        "model_1 = tf.keras.Sequential()\n",
        "model_1.add(tf.keras.layers.Conv2D(64,\n",
        "                                 kernel_size=(3,3),\n",
        "                                 strides=(1,1),\n",
        "                                 padding=\"same\",\n",
        "                                 activation=\"relu\",\n",
        "                                 input_shape=(32,32,3))) \n",
        "model_1.add( tf.keras.layers.Dropout(0.20))                               \n",
        "\n",
        "model_1.add(tf.keras.layers.Conv2D(64,\n",
        "                                 kernel_size=(3,3),\n",
        "                                 strides=(1,1),\n",
        "                                 padding=\"same\",\n",
        "                                 activation=\"relu\"))\n",
        "model_1.add( tf.keras.layers.Dropout(0.25))   \n",
        "\n",
        "model_1.add(tf.keras.layers.Conv2D(64,\n",
        "                                 kernel_size=(3,3),\n",
        "                                 strides=(1,1),\n",
        "                                 padding=\"same\",\n",
        "                                 activation=\"relu\")) \n",
        "\n",
        "model_1.add(tf.keras.layers.MaxPooling2D((2,2))) \n",
        "model_1.add( tf.keras.layers.Dropout(0.30))\n",
        "\n",
        "model_1.add(tf.keras.layers.Flatten())\n",
        "model_1.add(tf.keras.layers.Dense(256, activation=\"relu\"))\n",
        "model_1.add( tf.keras.layers.Dropout(0.5))\n",
        "\n",
        "model_1.add(tf.keras.layers.Dense(10, activation=\"softmax\"))\n",
        "model_1.compile(optimizer=\"adam\",\n",
        "              loss='categorical_crossentropy',\n",
        "              metrics=[\"accuracy\"])"
      ],
      "metadata": {
        "id": "zl9JyzGo9gec"
      },
      "execution_count": 64,
      "outputs": []
    },
    {
      "cell_type": "code",
      "source": [
        "results_1 = model_1.fit(X_train, y_train, epochs=35, batch_size = 32, validation_data=(X_val, y_val))"
      ],
      "metadata": {
        "colab": {
          "base_uri": "https://localhost:8080/"
        },
        "id": "WCnWcdxS9khN",
        "outputId": "c30dbc04-7bcd-478d-ebbf-76102072f6af"
      },
      "execution_count": 65,
      "outputs": [
        {
          "output_type": "stream",
          "name": "stdout",
          "text": [
            "Epoch 1/35\n",
            "1250/1250 [==============================] - 13s 10ms/step - loss: 3.2478 - accuracy: 0.1730 - val_loss: 1.9222 - val_accuracy: 0.3124\n",
            "Epoch 2/35\n",
            "1250/1250 [==============================] - 12s 10ms/step - loss: 1.7694 - accuracy: 0.3480 - val_loss: 1.4818 - val_accuracy: 0.4675\n",
            "Epoch 3/35\n",
            "1250/1250 [==============================] - 12s 10ms/step - loss: 1.5321 - accuracy: 0.4450 - val_loss: 1.3497 - val_accuracy: 0.5033\n",
            "Epoch 4/35\n",
            "1250/1250 [==============================] - 12s 10ms/step - loss: 1.4199 - accuracy: 0.4915 - val_loss: 1.2749 - val_accuracy: 0.5568\n",
            "Epoch 5/35\n",
            "1250/1250 [==============================] - 12s 10ms/step - loss: 1.3415 - accuracy: 0.5208 - val_loss: 1.3091 - val_accuracy: 0.5347\n",
            "Epoch 6/35\n",
            "1250/1250 [==============================] - 12s 10ms/step - loss: 1.2710 - accuracy: 0.5476 - val_loss: 1.2057 - val_accuracy: 0.5859\n",
            "Epoch 7/35\n",
            "1250/1250 [==============================] - 12s 10ms/step - loss: 1.2211 - accuracy: 0.5696 - val_loss: 1.1412 - val_accuracy: 0.6093\n",
            "Epoch 8/35\n",
            "1250/1250 [==============================] - 12s 10ms/step - loss: 1.1737 - accuracy: 0.5857 - val_loss: 1.0879 - val_accuracy: 0.6251\n",
            "Epoch 9/35\n",
            "1250/1250 [==============================] - 12s 10ms/step - loss: 1.1454 - accuracy: 0.5964 - val_loss: 1.0812 - val_accuracy: 0.6262\n",
            "Epoch 10/35\n",
            "1250/1250 [==============================] - 12s 10ms/step - loss: 1.1142 - accuracy: 0.6065 - val_loss: 1.0669 - val_accuracy: 0.6349\n",
            "Epoch 11/35\n",
            "1250/1250 [==============================] - 12s 10ms/step - loss: 1.0779 - accuracy: 0.6209 - val_loss: 1.0123 - val_accuracy: 0.6554\n",
            "Epoch 12/35\n",
            "1250/1250 [==============================] - 12s 10ms/step - loss: 1.0517 - accuracy: 0.6305 - val_loss: 1.0576 - val_accuracy: 0.6339\n",
            "Epoch 13/35\n",
            "1250/1250 [==============================] - 12s 10ms/step - loss: 1.0570 - accuracy: 0.6290 - val_loss: 1.0295 - val_accuracy: 0.6484\n",
            "Epoch 14/35\n",
            "1250/1250 [==============================] - 12s 10ms/step - loss: 1.0147 - accuracy: 0.6453 - val_loss: 1.0072 - val_accuracy: 0.6555\n",
            "Epoch 15/35\n",
            "1250/1250 [==============================] - 12s 10ms/step - loss: 0.9918 - accuracy: 0.6559 - val_loss: 0.9855 - val_accuracy: 0.6669\n",
            "Epoch 16/35\n",
            "1250/1250 [==============================] - 12s 10ms/step - loss: 0.9730 - accuracy: 0.6610 - val_loss: 1.0151 - val_accuracy: 0.6501\n",
            "Epoch 17/35\n",
            "1250/1250 [==============================] - 12s 9ms/step - loss: 0.9510 - accuracy: 0.6676 - val_loss: 1.0068 - val_accuracy: 0.6559\n",
            "Epoch 18/35\n",
            "1250/1250 [==============================] - 12s 10ms/step - loss: 0.9285 - accuracy: 0.6746 - val_loss: 1.0208 - val_accuracy: 0.6502\n",
            "Epoch 19/35\n",
            "1250/1250 [==============================] - 12s 10ms/step - loss: 0.9325 - accuracy: 0.6726 - val_loss: 1.0170 - val_accuracy: 0.6544\n",
            "Epoch 20/35\n",
            "1250/1250 [==============================] - 12s 10ms/step - loss: 0.9072 - accuracy: 0.6863 - val_loss: 1.0122 - val_accuracy: 0.6512\n",
            "Epoch 21/35\n",
            "1250/1250 [==============================] - 12s 10ms/step - loss: 0.8942 - accuracy: 0.6868 - val_loss: 0.9984 - val_accuracy: 0.6613\n",
            "Epoch 22/35\n",
            "1250/1250 [==============================] - 12s 10ms/step - loss: 0.8712 - accuracy: 0.6943 - val_loss: 1.0063 - val_accuracy: 0.6561\n",
            "Epoch 23/35\n",
            "1250/1250 [==============================] - 12s 10ms/step - loss: 0.8672 - accuracy: 0.6980 - val_loss: 0.9992 - val_accuracy: 0.6592\n",
            "Epoch 24/35\n",
            "1250/1250 [==============================] - 12s 10ms/step - loss: 0.8536 - accuracy: 0.7016 - val_loss: 0.9939 - val_accuracy: 0.6599\n",
            "Epoch 25/35\n",
            "1250/1250 [==============================] - 12s 10ms/step - loss: 0.8489 - accuracy: 0.7032 - val_loss: 1.0196 - val_accuracy: 0.6496\n",
            "Epoch 26/35\n",
            "1250/1250 [==============================] - 12s 10ms/step - loss: 0.8529 - accuracy: 0.7017 - val_loss: 1.0474 - val_accuracy: 0.6480\n",
            "Epoch 27/35\n",
            "1250/1250 [==============================] - 12s 10ms/step - loss: 0.8343 - accuracy: 0.7097 - val_loss: 1.0012 - val_accuracy: 0.6655\n",
            "Epoch 28/35\n",
            "1250/1250 [==============================] - 12s 10ms/step - loss: 0.8361 - accuracy: 0.7134 - val_loss: 1.0695 - val_accuracy: 0.6333\n",
            "Epoch 29/35\n",
            "1250/1250 [==============================] - 12s 10ms/step - loss: 0.8162 - accuracy: 0.7161 - val_loss: 1.0019 - val_accuracy: 0.6591\n",
            "Epoch 30/35\n",
            "1250/1250 [==============================] - 12s 10ms/step - loss: 0.8040 - accuracy: 0.7207 - val_loss: 0.9955 - val_accuracy: 0.6655\n",
            "Epoch 31/35\n",
            "1250/1250 [==============================] - 12s 10ms/step - loss: 0.8063 - accuracy: 0.7236 - val_loss: 1.0193 - val_accuracy: 0.6663\n",
            "Epoch 32/35\n",
            "1250/1250 [==============================] - 12s 10ms/step - loss: 0.7933 - accuracy: 0.7244 - val_loss: 0.9854 - val_accuracy: 0.6715\n",
            "Epoch 33/35\n",
            "1250/1250 [==============================] - 12s 10ms/step - loss: 0.7857 - accuracy: 0.7296 - val_loss: 0.9967 - val_accuracy: 0.6664\n",
            "Epoch 34/35\n",
            "1250/1250 [==============================] - 13s 10ms/step - loss: 0.7711 - accuracy: 0.7338 - val_loss: 1.0660 - val_accuracy: 0.6475\n",
            "Epoch 35/35\n",
            "1250/1250 [==============================] - 12s 10ms/step - loss: 0.7893 - accuracy: 0.7286 - val_loss: 1.0314 - val_accuracy: 0.6539\n"
          ]
        }
      ]
    },
    {
      "cell_type": "code",
      "source": [
        "model_1.evaluate(X_test, y_test)"
      ],
      "metadata": {
        "colab": {
          "base_uri": "https://localhost:8080/"
        },
        "id": "U-Tq-d6V9mTh",
        "outputId": "559af272-4613-4627-dbb6-0570935641d5"
      },
      "execution_count": 66,
      "outputs": [
        {
          "output_type": "stream",
          "name": "stdout",
          "text": [
            "313/313 [==============================] - 1s 4ms/step - loss: 1.0330 - accuracy: 0.6475\n"
          ]
        },
        {
          "output_type": "execute_result",
          "data": {
            "text/plain": [
              "[1.0329681634902954, 0.6474999785423279]"
            ]
          },
          "metadata": {},
          "execution_count": 66
        }
      ]
    },
    {
      "cell_type": "markdown",
      "source": [
        "**MODEL - 2**"
      ],
      "metadata": {
        "id": "Hty9KadQ9rtN"
      }
    },
    {
      "cell_type": "code",
      "source": [
        "model_2 = tf.keras.Sequential()\n",
        "model_2.add(tf.keras.layers.Conv2D(32,\n",
        "                                 kernel_size=(5,5),\n",
        "                                 strides=(1,1),\n",
        "                                 padding=\"same\",\n",
        "                                 activation=\"relu\",\n",
        "                                 input_shape=(32,32,3))) # 30*30*32\n",
        "model_2.add( tf.keras.layers.Dropout(0.20))                               \n",
        "\n",
        "model_2.add(tf.keras.layers.Conv2D(32,\n",
        "                                 kernel_size=(5,5),\n",
        "                                 strides=(1,1),\n",
        "                                 padding=\"same\",\n",
        "                                 activation=\"relu\")) #28*28*32\n",
        "model_2.add( tf.keras.layers.Dropout(0.25)) \n",
        "\n",
        "model_2.add(tf.keras.layers.Conv2D(32,\n",
        "                                 kernel_size=(5,5),\n",
        "                                 strides=(1,1),\n",
        "                                 padding=\"same\",\n",
        "                                 activation=\"relu\")) #26*26*32\n",
        "\n",
        "model_2.add(tf.keras.layers.MaxPooling2D((2,2))) #13*13*32\n",
        "model_2.add( tf.keras.layers.Dropout(0.30))\n",
        "\n",
        "model_2.add(tf.keras.layers.Flatten())\n",
        "model_2.add(tf.keras.layers.Dense(256, activation=\"relu\"))\n",
        "model_2.add( tf.keras.layers.Dropout(0.5))\n",
        "\n",
        "model_2.add(tf.keras.layers.Dense(10, activation=\"softmax\"))\n",
        "model_2.compile(optimizer=\"adam\",\n",
        "              loss='categorical_crossentropy',\n",
        "              metrics=[\"accuracy\"])"
      ],
      "metadata": {
        "id": "bnJqJHKd9vne"
      },
      "execution_count": 67,
      "outputs": []
    },
    {
      "cell_type": "code",
      "source": [
        "results_2 = model_2.fit(X_train, y_train, epochs=35, batch_size = 32, validation_data=(X_val, y_val))"
      ],
      "metadata": {
        "colab": {
          "base_uri": "https://localhost:8080/"
        },
        "id": "_FL1_R5_9xOL",
        "outputId": "be5844c2-c14b-43df-f24a-56f71a8dfc7e"
      },
      "execution_count": 68,
      "outputs": [
        {
          "output_type": "stream",
          "name": "stdout",
          "text": [
            "Epoch 1/35\n",
            "1250/1250 [==============================] - 11s 8ms/step - loss: 2.1863 - accuracy: 0.3091 - val_loss: 1.6444 - val_accuracy: 0.4337\n",
            "Epoch 2/35\n",
            "1250/1250 [==============================] - 10s 8ms/step - loss: 1.6484 - accuracy: 0.3990 - val_loss: 1.6280 - val_accuracy: 0.4162\n",
            "Epoch 3/35\n",
            "1250/1250 [==============================] - 10s 8ms/step - loss: 1.5726 - accuracy: 0.4292 - val_loss: 1.4640 - val_accuracy: 0.4732\n",
            "Epoch 4/35\n",
            "1250/1250 [==============================] - 10s 8ms/step - loss: 1.5105 - accuracy: 0.4589 - val_loss: 1.4463 - val_accuracy: 0.4864\n",
            "Epoch 5/35\n",
            "1250/1250 [==============================] - 10s 8ms/step - loss: 1.4695 - accuracy: 0.4736 - val_loss: 1.3551 - val_accuracy: 0.5235\n",
            "Epoch 6/35\n",
            "1250/1250 [==============================] - 10s 8ms/step - loss: 1.4438 - accuracy: 0.4812 - val_loss: 1.3427 - val_accuracy: 0.5501\n",
            "Epoch 7/35\n",
            "1250/1250 [==============================] - 10s 8ms/step - loss: 1.4061 - accuracy: 0.4956 - val_loss: 1.3010 - val_accuracy: 0.5550\n",
            "Epoch 8/35\n",
            "1250/1250 [==============================] - 10s 8ms/step - loss: 1.3732 - accuracy: 0.5120 - val_loss: 1.3213 - val_accuracy: 0.5341\n",
            "Epoch 9/35\n",
            "1250/1250 [==============================] - 10s 8ms/step - loss: 1.3458 - accuracy: 0.5252 - val_loss: 1.2531 - val_accuracy: 0.5610\n",
            "Epoch 10/35\n",
            "1250/1250 [==============================] - 10s 8ms/step - loss: 1.3294 - accuracy: 0.5266 - val_loss: 1.2157 - val_accuracy: 0.5825\n",
            "Epoch 11/35\n",
            "1250/1250 [==============================] - 10s 8ms/step - loss: 1.3047 - accuracy: 0.5402 - val_loss: 1.2335 - val_accuracy: 0.5661\n",
            "Epoch 12/35\n",
            "1250/1250 [==============================] - 10s 8ms/step - loss: 1.3016 - accuracy: 0.5412 - val_loss: 1.2610 - val_accuracy: 0.5667\n",
            "Epoch 13/35\n",
            "1250/1250 [==============================] - 10s 8ms/step - loss: 1.2651 - accuracy: 0.5563 - val_loss: 1.2773 - val_accuracy: 0.5413\n",
            "Epoch 14/35\n",
            "1250/1250 [==============================] - 10s 8ms/step - loss: 1.2590 - accuracy: 0.5554 - val_loss: 1.2354 - val_accuracy: 0.5822\n",
            "Epoch 15/35\n",
            "1250/1250 [==============================] - 10s 8ms/step - loss: 1.2373 - accuracy: 0.5641 - val_loss: 1.1819 - val_accuracy: 0.5910\n",
            "Epoch 16/35\n",
            "1250/1250 [==============================] - 10s 8ms/step - loss: 1.2190 - accuracy: 0.5740 - val_loss: 1.2538 - val_accuracy: 0.5618\n",
            "Epoch 17/35\n",
            "1250/1250 [==============================] - 10s 8ms/step - loss: 1.2252 - accuracy: 0.5716 - val_loss: 1.1459 - val_accuracy: 0.6065\n",
            "Epoch 18/35\n",
            "1250/1250 [==============================] - 10s 8ms/step - loss: 1.2007 - accuracy: 0.5830 - val_loss: 1.2199 - val_accuracy: 0.5813\n",
            "Epoch 19/35\n",
            "1250/1250 [==============================] - 10s 8ms/step - loss: 1.1985 - accuracy: 0.5783 - val_loss: 1.2084 - val_accuracy: 0.5848\n",
            "Epoch 20/35\n",
            "1250/1250 [==============================] - 10s 8ms/step - loss: 1.1879 - accuracy: 0.5864 - val_loss: 1.2442 - val_accuracy: 0.5776\n",
            "Epoch 21/35\n",
            "1250/1250 [==============================] - 10s 8ms/step - loss: 1.1774 - accuracy: 0.5900 - val_loss: 1.1777 - val_accuracy: 0.5892\n",
            "Epoch 22/35\n",
            "1250/1250 [==============================] - 10s 8ms/step - loss: 1.1495 - accuracy: 0.5992 - val_loss: 1.1382 - val_accuracy: 0.6041\n",
            "Epoch 23/35\n",
            "1250/1250 [==============================] - 10s 8ms/step - loss: 1.1543 - accuracy: 0.6000 - val_loss: 1.1690 - val_accuracy: 0.5917\n",
            "Epoch 24/35\n",
            "1250/1250 [==============================] - 10s 8ms/step - loss: 1.1316 - accuracy: 0.6017 - val_loss: 1.1519 - val_accuracy: 0.6040\n",
            "Epoch 25/35\n",
            "1250/1250 [==============================] - 10s 8ms/step - loss: 1.1180 - accuracy: 0.6099 - val_loss: 1.1319 - val_accuracy: 0.6178\n",
            "Epoch 26/35\n",
            "1250/1250 [==============================] - 10s 8ms/step - loss: 1.1258 - accuracy: 0.6095 - val_loss: 1.1485 - val_accuracy: 0.6046\n",
            "Epoch 27/35\n",
            "1250/1250 [==============================] - 10s 8ms/step - loss: 1.1386 - accuracy: 0.6046 - val_loss: 1.1614 - val_accuracy: 0.5972\n",
            "Epoch 28/35\n",
            "1250/1250 [==============================] - 10s 8ms/step - loss: 1.1345 - accuracy: 0.6071 - val_loss: 1.1363 - val_accuracy: 0.6031\n",
            "Epoch 29/35\n",
            "1250/1250 [==============================] - 10s 8ms/step - loss: 1.1012 - accuracy: 0.6176 - val_loss: 1.1302 - val_accuracy: 0.6110\n",
            "Epoch 30/35\n",
            "1250/1250 [==============================] - 10s 8ms/step - loss: 1.1060 - accuracy: 0.6170 - val_loss: 1.1935 - val_accuracy: 0.5948\n",
            "Epoch 31/35\n",
            "1250/1250 [==============================] - 10s 8ms/step - loss: 1.0799 - accuracy: 0.6251 - val_loss: 1.1163 - val_accuracy: 0.6153\n",
            "Epoch 32/35\n",
            "1250/1250 [==============================] - 10s 8ms/step - loss: 1.1115 - accuracy: 0.6162 - val_loss: 1.2044 - val_accuracy: 0.5831\n",
            "Epoch 33/35\n",
            "1250/1250 [==============================] - 10s 8ms/step - loss: 1.0862 - accuracy: 0.6230 - val_loss: 1.1863 - val_accuracy: 0.5953\n",
            "Epoch 34/35\n",
            "1250/1250 [==============================] - 10s 8ms/step - loss: 1.0792 - accuracy: 0.6245 - val_loss: 1.1123 - val_accuracy: 0.6145\n",
            "Epoch 35/35\n",
            "1250/1250 [==============================] - 10s 8ms/step - loss: 1.0650 - accuracy: 0.6309 - val_loss: 1.1438 - val_accuracy: 0.6089\n"
          ]
        }
      ]
    },
    {
      "cell_type": "code",
      "source": [
        "model_2.evaluate(X_test, y_test)"
      ],
      "metadata": {
        "colab": {
          "base_uri": "https://localhost:8080/"
        },
        "id": "fZNXlBeK9yq5",
        "outputId": "8685e137-32bd-48dc-db5f-974136e88902"
      },
      "execution_count": 69,
      "outputs": [
        {
          "output_type": "stream",
          "name": "stdout",
          "text": [
            "313/313 [==============================] - 1s 4ms/step - loss: 1.1571 - accuracy: 0.5965\n"
          ]
        },
        {
          "output_type": "execute_result",
          "data": {
            "text/plain": [
              "[1.1570637226104736, 0.5964999794960022]"
            ]
          },
          "metadata": {},
          "execution_count": 69
        }
      ]
    },
    {
      "cell_type": "markdown",
      "source": [
        "**MODEL - 3**"
      ],
      "metadata": {
        "id": "xdJ_HbsE901A"
      }
    },
    {
      "cell_type": "code",
      "source": [
        "model_3 = tf.keras.Sequential()\n",
        "model_3.add(tf.keras.layers.Conv2D(64,\n",
        "                                 kernel_size=(5,5),\n",
        "                                 strides=(1,1),\n",
        "                                 padding=\"same\",\n",
        "                                 activation=\"relu\",\n",
        "                                 input_shape=(32,32,3))) # 30*30*32\n",
        "model_3.add( tf.keras.layers.Dropout(0.20))                               \n",
        "\n",
        "model_3.add(tf.keras.layers.Conv2D(64,\n",
        "                                 kernel_size=(5,5),\n",
        "                                 strides=(1,1),\n",
        "                                 padding=\"same\",\n",
        "                                 activation=\"relu\")) #28*28*32\n",
        "model_3.add( tf.keras.layers.Dropout(0.25))  \n",
        "\n",
        "model_3.add(tf.keras.layers.Conv2D(64,\n",
        "                                 kernel_size=(5,5),\n",
        "                                 strides=(1,1),\n",
        "                                 padding=\"same\",\n",
        "                                 activation=\"relu\")) #26*26*32\n",
        "\n",
        "model_3.add(tf.keras.layers.MaxPooling2D((2,2))) #13*13*32\n",
        "model_3.add( tf.keras.layers.Dropout(0.30))\n",
        "\n",
        "model_3.add(tf.keras.layers.Flatten())\n",
        "model_3.add(tf.keras.layers.Dense(256, activation=\"relu\"))\n",
        "model_3.add( tf.keras.layers.Dropout(0.5))\n",
        "\n",
        "model_3.add(tf.keras.layers.Dense(10, activation=\"softmax\"))\n",
        "model_3.compile(optimizer=\"adam\",\n",
        "              loss='categorical_crossentropy',\n",
        "              metrics=[\"accuracy\"])"
      ],
      "metadata": {
        "id": "bUYtsP0k93b6"
      },
      "execution_count": 70,
      "outputs": []
    },
    {
      "cell_type": "code",
      "source": [
        "results_3 = model_3.fit(X_train, y_train, epochs=35, batch_size = 32, validation_data=(X_val, y_val))"
      ],
      "metadata": {
        "colab": {
          "base_uri": "https://localhost:8080/"
        },
        "id": "pMbiGWTA95wR",
        "outputId": "39706e2f-e42d-4d65-9b4c-8bfcec4d7358"
      },
      "execution_count": 71,
      "outputs": [
        {
          "output_type": "stream",
          "name": "stdout",
          "text": [
            "Epoch 1/35\n",
            "1250/1250 [==============================] - 17s 13ms/step - loss: 2.3830 - accuracy: 0.2704 - val_loss: 1.8295 - val_accuracy: 0.3521\n",
            "Epoch 2/35\n",
            "1250/1250 [==============================] - 15s 12ms/step - loss: 1.6085 - accuracy: 0.4221 - val_loss: 1.5036 - val_accuracy: 0.4665\n",
            "Epoch 3/35\n",
            "1250/1250 [==============================] - 15s 12ms/step - loss: 1.5187 - accuracy: 0.4551 - val_loss: 1.4250 - val_accuracy: 0.5085\n",
            "Epoch 4/35\n",
            "1250/1250 [==============================] - 17s 13ms/step - loss: 1.4902 - accuracy: 0.4712 - val_loss: 1.4395 - val_accuracy: 0.4932\n",
            "Epoch 5/35\n",
            "1250/1250 [==============================] - 15s 12ms/step - loss: 1.4269 - accuracy: 0.4924 - val_loss: 1.3455 - val_accuracy: 0.5383\n",
            "Epoch 6/35\n",
            "1250/1250 [==============================] - 15s 12ms/step - loss: 1.4001 - accuracy: 0.5030 - val_loss: 1.2767 - val_accuracy: 0.5560\n",
            "Epoch 7/35\n",
            "1250/1250 [==============================] - 15s 12ms/step - loss: 1.3718 - accuracy: 0.5155 - val_loss: 1.2710 - val_accuracy: 0.5532\n",
            "Epoch 8/35\n",
            "1250/1250 [==============================] - 17s 13ms/step - loss: 1.3401 - accuracy: 0.5233 - val_loss: 1.2237 - val_accuracy: 0.5853\n",
            "Epoch 9/35\n",
            "1250/1250 [==============================] - 16s 12ms/step - loss: 1.3529 - accuracy: 0.5249 - val_loss: 1.2717 - val_accuracy: 0.5516\n",
            "Epoch 10/35\n",
            "1250/1250 [==============================] - 15s 12ms/step - loss: 1.3232 - accuracy: 0.5357 - val_loss: 1.2254 - val_accuracy: 0.5806\n",
            "Epoch 11/35\n",
            "1250/1250 [==============================] - 17s 13ms/step - loss: 1.2974 - accuracy: 0.5453 - val_loss: 1.3093 - val_accuracy: 0.5453\n",
            "Epoch 12/35\n",
            "1250/1250 [==============================] - 15s 12ms/step - loss: 1.2683 - accuracy: 0.5564 - val_loss: 1.3178 - val_accuracy: 0.5457\n",
            "Epoch 13/35\n",
            "1250/1250 [==============================] - 17s 13ms/step - loss: 1.2888 - accuracy: 0.5505 - val_loss: 1.1545 - val_accuracy: 0.5978\n",
            "Epoch 14/35\n",
            "1250/1250 [==============================] - 15s 12ms/step - loss: 1.2527 - accuracy: 0.5612 - val_loss: 1.2081 - val_accuracy: 0.5776\n",
            "Epoch 15/35\n",
            "1250/1250 [==============================] - 17s 13ms/step - loss: 1.2368 - accuracy: 0.5688 - val_loss: 1.1981 - val_accuracy: 0.5945\n",
            "Epoch 16/35\n",
            "1250/1250 [==============================] - 16s 13ms/step - loss: 1.2413 - accuracy: 0.5689 - val_loss: 1.2451 - val_accuracy: 0.5688\n",
            "Epoch 17/35\n",
            "1250/1250 [==============================] - 17s 13ms/step - loss: 1.2249 - accuracy: 0.5741 - val_loss: 1.1741 - val_accuracy: 0.5867\n",
            "Epoch 18/35\n",
            "1250/1250 [==============================] - 15s 12ms/step - loss: 1.2058 - accuracy: 0.5805 - val_loss: 1.2744 - val_accuracy: 0.5573\n",
            "Epoch 19/35\n",
            "1250/1250 [==============================] - 15s 12ms/step - loss: 1.2034 - accuracy: 0.5838 - val_loss: 1.2057 - val_accuracy: 0.5844\n",
            "Epoch 20/35\n",
            "1250/1250 [==============================] - 15s 12ms/step - loss: 1.2311 - accuracy: 0.5735 - val_loss: 1.2821 - val_accuracy: 0.5595\n",
            "Epoch 21/35\n",
            "1250/1250 [==============================] - 17s 13ms/step - loss: 1.1742 - accuracy: 0.5929 - val_loss: 1.1667 - val_accuracy: 0.6014\n",
            "Epoch 22/35\n",
            "1250/1250 [==============================] - 17s 13ms/step - loss: 1.1901 - accuracy: 0.5851 - val_loss: 1.3489 - val_accuracy: 0.5269\n",
            "Epoch 23/35\n",
            "1250/1250 [==============================] - 17s 13ms/step - loss: 1.1827 - accuracy: 0.5889 - val_loss: 1.1825 - val_accuracy: 0.5850\n",
            "Epoch 24/35\n",
            "1250/1250 [==============================] - 15s 12ms/step - loss: 1.1574 - accuracy: 0.5982 - val_loss: 1.2156 - val_accuracy: 0.5707\n",
            "Epoch 25/35\n",
            "1250/1250 [==============================] - 17s 13ms/step - loss: 1.1534 - accuracy: 0.6018 - val_loss: 1.2329 - val_accuracy: 0.5737\n",
            "Epoch 26/35\n",
            "1250/1250 [==============================] - 15s 12ms/step - loss: 1.1940 - accuracy: 0.5857 - val_loss: 1.1538 - val_accuracy: 0.6041\n",
            "Epoch 27/35\n",
            "1250/1250 [==============================] - 17s 13ms/step - loss: 1.1470 - accuracy: 0.6028 - val_loss: 1.2738 - val_accuracy: 0.5709\n",
            "Epoch 28/35\n",
            "1250/1250 [==============================] - 17s 13ms/step - loss: 1.1720 - accuracy: 0.5982 - val_loss: 1.1575 - val_accuracy: 0.6035\n",
            "Epoch 29/35\n",
            "1250/1250 [==============================] - 15s 12ms/step - loss: 1.1433 - accuracy: 0.6031 - val_loss: 1.1821 - val_accuracy: 0.5969\n",
            "Epoch 30/35\n",
            "1250/1250 [==============================] - 15s 12ms/step - loss: 1.1464 - accuracy: 0.6032 - val_loss: 1.2068 - val_accuracy: 0.5852\n",
            "Epoch 31/35\n",
            "1250/1250 [==============================] - 15s 12ms/step - loss: 1.1250 - accuracy: 0.6118 - val_loss: 1.2432 - val_accuracy: 0.5827\n",
            "Epoch 32/35\n",
            "1250/1250 [==============================] - 15s 12ms/step - loss: 1.1121 - accuracy: 0.6174 - val_loss: 1.1741 - val_accuracy: 0.5987\n",
            "Epoch 33/35\n",
            "1250/1250 [==============================] - 17s 13ms/step - loss: 1.2918 - accuracy: 0.5477 - val_loss: 1.8864 - val_accuracy: 0.2820\n",
            "Epoch 34/35\n",
            "1250/1250 [==============================] - 15s 12ms/step - loss: 1.5539 - accuracy: 0.4607 - val_loss: 1.5348 - val_accuracy: 0.4662\n",
            "Epoch 35/35\n",
            "1250/1250 [==============================] - 17s 13ms/step - loss: 1.4149 - accuracy: 0.5064 - val_loss: 1.4584 - val_accuracy: 0.4903\n"
          ]
        }
      ]
    },
    {
      "cell_type": "code",
      "source": [
        "model_3.evaluate(X_test, y_test)"
      ],
      "metadata": {
        "colab": {
          "base_uri": "https://localhost:8080/"
        },
        "id": "YgMJbpIx97Ze",
        "outputId": "a8ce526e-9391-419a-af64-e657bc699120"
      },
      "execution_count": 72,
      "outputs": [
        {
          "output_type": "stream",
          "name": "stdout",
          "text": [
            "313/313 [==============================] - 2s 5ms/step - loss: 1.4648 - accuracy: 0.4863\n"
          ]
        },
        {
          "output_type": "execute_result",
          "data": {
            "text/plain": [
              "[1.464847207069397, 0.486299991607666]"
            ]
          },
          "metadata": {},
          "execution_count": 72
        }
      ]
    },
    {
      "cell_type": "markdown",
      "source": [
        "**MODEL - 4**"
      ],
      "metadata": {
        "id": "1Vgs_Wup99Yj"
      }
    },
    {
      "cell_type": "code",
      "source": [
        "model_4 = tf.keras.Sequential()\n",
        "model_4.add(tf.keras.layers.Conv2D(32,\n",
        "                                 kernel_size=(3,3),\n",
        "                                 strides=(1,1),\n",
        "                                 padding=\"same\",\n",
        "                                 activation=\"relu\",\n",
        "                                 input_shape=(32,32,3))) # 30*30*32\n",
        "model_4.add( tf.keras.layers.Dropout(0.20))                               \n",
        "\n",
        "model_4.add(tf.keras.layers.Conv2D(32,\n",
        "                                 kernel_size=(3,3),\n",
        "                                 strides=(1,1),\n",
        "                                 padding=\"same\",\n",
        "                                 activation=\"relu\")) #28*28*32\n",
        "\n",
        "model_4.add(tf.keras.layers.Conv2D(32,\n",
        "                                 kernel_size=(3,3),\n",
        "                                 strides=(1,1),\n",
        "                                 padding=\"same\",\n",
        "                                 activation=\"relu\")) #26*26*32\n",
        "model_4.add( tf.keras.layers.Dropout(0.25))\n",
        "\n",
        "model_4.add(tf.keras.layers.Conv2D(32,\n",
        "                                 kernel_size=(3,3),\n",
        "                                 strides=(1,1),\n",
        "                                 padding=\"same\",\n",
        "                                 activation=\"relu\")) #28*28*32\n",
        "\n",
        "model_4.add(tf.keras.layers.Conv2D(32,\n",
        "                                 kernel_size=(3,3),\n",
        "                                 strides=(1,1),\n",
        "                                 padding=\"same\",\n",
        "                                 activation=\"relu\")) #26*26*32\n",
        "\n",
        "model_4.add(tf.keras.layers.MaxPooling2D((2,2))) #13*13*32\n",
        "model_4.add( tf.keras.layers.Dropout(0.30))\n",
        "\n",
        "model_4.add(tf.keras.layers.Flatten())\n",
        "model_4.add(tf.keras.layers.Dense(256, activation=\"relu\"))\n",
        "model_4.add( tf.keras.layers.Dropout(0.50))\n",
        "\n",
        "model_4.add(tf.keras.layers.Dense(10, activation=\"softmax\"))\n",
        "model_4.compile(optimizer=\"adam\",\n",
        "              loss='categorical_crossentropy',\n",
        "              metrics=[\"accuracy\"])"
      ],
      "metadata": {
        "id": "P1Hp1dCt-Auz"
      },
      "execution_count": 73,
      "outputs": []
    },
    {
      "cell_type": "code",
      "source": [
        "results_4 = model_4.fit(X_train, y_train, epochs=35, batch_size = 32, validation_data=(X_val, y_val)) #epoch 50 dene"
      ],
      "metadata": {
        "colab": {
          "base_uri": "https://localhost:8080/"
        },
        "id": "TCim8QVc-BvR",
        "outputId": "ca7bb2df-caab-4581-dfe7-f5041fb7c66d"
      },
      "execution_count": 74,
      "outputs": [
        {
          "output_type": "stream",
          "name": "stdout",
          "text": [
            "Epoch 1/35\n",
            "1250/1250 [==============================] - 10s 8ms/step - loss: 2.1511 - accuracy: 0.2592 - val_loss: 1.7209 - val_accuracy: 0.3853\n",
            "Epoch 2/35\n",
            "1250/1250 [==============================] - 9s 8ms/step - loss: 1.6038 - accuracy: 0.4138 - val_loss: 1.4215 - val_accuracy: 0.4839\n",
            "Epoch 3/35\n",
            "1250/1250 [==============================] - 9s 7ms/step - loss: 1.4626 - accuracy: 0.4712 - val_loss: 1.3113 - val_accuracy: 0.5303\n",
            "Epoch 4/35\n",
            "1250/1250 [==============================] - 10s 8ms/step - loss: 1.3509 - accuracy: 0.5126 - val_loss: 1.1899 - val_accuracy: 0.5792\n",
            "Epoch 5/35\n",
            "1250/1250 [==============================] - 9s 7ms/step - loss: 1.2787 - accuracy: 0.5437 - val_loss: 1.1502 - val_accuracy: 0.6042\n",
            "Epoch 6/35\n",
            "1250/1250 [==============================] - 10s 8ms/step - loss: 1.2245 - accuracy: 0.5640 - val_loss: 1.1514 - val_accuracy: 0.5851\n",
            "Epoch 7/35\n",
            "1250/1250 [==============================] - 9s 7ms/step - loss: 1.1804 - accuracy: 0.5804 - val_loss: 1.0744 - val_accuracy: 0.6221\n",
            "Epoch 8/35\n",
            "1250/1250 [==============================] - 10s 8ms/step - loss: 1.1423 - accuracy: 0.5936 - val_loss: 1.0423 - val_accuracy: 0.6281\n",
            "Epoch 9/35\n",
            "1250/1250 [==============================] - 10s 8ms/step - loss: 1.1295 - accuracy: 0.5967 - val_loss: 0.9954 - val_accuracy: 0.6470\n",
            "Epoch 10/35\n",
            "1250/1250 [==============================] - 9s 7ms/step - loss: 1.0858 - accuracy: 0.6132 - val_loss: 1.0222 - val_accuracy: 0.6371\n",
            "Epoch 11/35\n",
            "1250/1250 [==============================] - 9s 7ms/step - loss: 1.0612 - accuracy: 0.6231 - val_loss: 0.9874 - val_accuracy: 0.6518\n",
            "Epoch 12/35\n",
            "1250/1250 [==============================] - 10s 8ms/step - loss: 1.0472 - accuracy: 0.6280 - val_loss: 1.0112 - val_accuracy: 0.6434\n",
            "Epoch 13/35\n",
            "1250/1250 [==============================] - 9s 7ms/step - loss: 1.0323 - accuracy: 0.6345 - val_loss: 1.0034 - val_accuracy: 0.6493\n",
            "Epoch 14/35\n",
            "1250/1250 [==============================] - 10s 8ms/step - loss: 1.0147 - accuracy: 0.6407 - val_loss: 0.9795 - val_accuracy: 0.6582\n",
            "Epoch 15/35\n",
            "1250/1250 [==============================] - 10s 8ms/step - loss: 0.9886 - accuracy: 0.6508 - val_loss: 0.9518 - val_accuracy: 0.6630\n",
            "Epoch 16/35\n",
            "1250/1250 [==============================] - 9s 7ms/step - loss: 0.9683 - accuracy: 0.6582 - val_loss: 0.9426 - val_accuracy: 0.6657\n",
            "Epoch 17/35\n",
            "1250/1250 [==============================] - 10s 8ms/step - loss: 0.9588 - accuracy: 0.6586 - val_loss: 0.9693 - val_accuracy: 0.6603\n",
            "Epoch 18/35\n",
            "1250/1250 [==============================] - 10s 8ms/step - loss: 0.9578 - accuracy: 0.6585 - val_loss: 0.9674 - val_accuracy: 0.6561\n",
            "Epoch 19/35\n",
            "1250/1250 [==============================] - 9s 7ms/step - loss: 0.9404 - accuracy: 0.6621 - val_loss: 0.9900 - val_accuracy: 0.6550\n",
            "Epoch 20/35\n",
            "1250/1250 [==============================] - 10s 8ms/step - loss: 0.9245 - accuracy: 0.6740 - val_loss: 0.9524 - val_accuracy: 0.6617\n",
            "Epoch 21/35\n",
            "1250/1250 [==============================] - 10s 8ms/step - loss: 0.9213 - accuracy: 0.6728 - val_loss: 0.9338 - val_accuracy: 0.6758\n",
            "Epoch 22/35\n",
            "1250/1250 [==============================] - 9s 7ms/step - loss: 0.9013 - accuracy: 0.6833 - val_loss: 0.9375 - val_accuracy: 0.6746\n",
            "Epoch 23/35\n",
            "1250/1250 [==============================] - 9s 7ms/step - loss: 0.8960 - accuracy: 0.6828 - val_loss: 0.9281 - val_accuracy: 0.6755\n",
            "Epoch 24/35\n",
            "1250/1250 [==============================] - 9s 7ms/step - loss: 0.8809 - accuracy: 0.6857 - val_loss: 0.9666 - val_accuracy: 0.6578\n",
            "Epoch 25/35\n",
            "1250/1250 [==============================] - 9s 7ms/step - loss: 0.8684 - accuracy: 0.6914 - val_loss: 0.9214 - val_accuracy: 0.6773\n",
            "Epoch 26/35\n",
            "1250/1250 [==============================] - 10s 8ms/step - loss: 0.8587 - accuracy: 0.6957 - val_loss: 0.9305 - val_accuracy: 0.6785\n",
            "Epoch 27/35\n",
            "1250/1250 [==============================] - 9s 7ms/step - loss: 0.8656 - accuracy: 0.6927 - val_loss: 0.9437 - val_accuracy: 0.6739\n",
            "Epoch 28/35\n",
            "1250/1250 [==============================] - 10s 8ms/step - loss: 0.8494 - accuracy: 0.6973 - val_loss: 0.9597 - val_accuracy: 0.6726\n",
            "Epoch 29/35\n",
            "1250/1250 [==============================] - 10s 8ms/step - loss: 0.8419 - accuracy: 0.7007 - val_loss: 0.9382 - val_accuracy: 0.6748\n",
            "Epoch 30/35\n",
            "1250/1250 [==============================] - 9s 7ms/step - loss: 0.8245 - accuracy: 0.7047 - val_loss: 0.9917 - val_accuracy: 0.6619\n",
            "Epoch 31/35\n",
            "1250/1250 [==============================] - 10s 8ms/step - loss: 0.8324 - accuracy: 0.7028 - val_loss: 0.9217 - val_accuracy: 0.6792\n",
            "Epoch 32/35\n",
            "1250/1250 [==============================] - 9s 7ms/step - loss: 0.8184 - accuracy: 0.7101 - val_loss: 0.9359 - val_accuracy: 0.6753\n",
            "Epoch 33/35\n",
            "1250/1250 [==============================] - 9s 7ms/step - loss: 0.8114 - accuracy: 0.7118 - val_loss: 0.9283 - val_accuracy: 0.6809\n",
            "Epoch 34/35\n",
            "1250/1250 [==============================] - 9s 7ms/step - loss: 0.8143 - accuracy: 0.7087 - val_loss: 0.9098 - val_accuracy: 0.6880\n",
            "Epoch 35/35\n",
            "1250/1250 [==============================] - 10s 8ms/step - loss: 0.8085 - accuracy: 0.7117 - val_loss: 0.9414 - val_accuracy: 0.6786\n"
          ]
        }
      ]
    },
    {
      "cell_type": "code",
      "source": [
        "model_4.evaluate(X_test, y_test)"
      ],
      "metadata": {
        "colab": {
          "base_uri": "https://localhost:8080/"
        },
        "id": "RKBmvP6x-FZO",
        "outputId": "600c7f67-af6c-4e83-8dbd-29711be16052"
      },
      "execution_count": 75,
      "outputs": [
        {
          "output_type": "stream",
          "name": "stdout",
          "text": [
            "313/313 [==============================] - 1s 4ms/step - loss: 0.9549 - accuracy: 0.6688\n"
          ]
        },
        {
          "output_type": "execute_result",
          "data": {
            "text/plain": [
              "[0.9548811316490173, 0.6687999963760376]"
            ]
          },
          "metadata": {},
          "execution_count": 75
        }
      ]
    },
    {
      "cell_type": "markdown",
      "source": [
        "**MODEL - 5**"
      ],
      "metadata": {
        "id": "vEh05NM--Goy"
      }
    },
    {
      "cell_type": "code",
      "source": [
        "model_5 = tf.keras.Sequential()\n",
        "model_5.add(tf.keras.layers.Conv2D(64,\n",
        "                                 kernel_size=(3,3),\n",
        "                                 strides=(1,1),\n",
        "                                 padding=\"same\",\n",
        "                                 activation=\"relu\",\n",
        "                                 input_shape=(32,32,3))) # 30*30*32\n",
        "model_5.add(tf.keras.layers.Dropout(0.20))                           \n",
        "\n",
        "model_5.add(tf.keras.layers.Conv2D(64,\n",
        "                                 kernel_size=(3,3),\n",
        "                                 strides=(1,1),\n",
        "                                 padding=\"same\",\n",
        "                                 activation=\"relu\")) #28*28*32\n",
        "\n",
        "\n",
        "model_5.add(tf.keras.layers.Conv2D(64,\n",
        "                                 kernel_size=(3,3),\n",
        "                                 strides=(1,1),\n",
        "                                 padding=\"same\",\n",
        "                                 activation=\"relu\")) #26*26*32\n",
        "model_5.add(tf.keras.layers.Dropout(0.25))\n",
        "\n",
        "model_5.add(tf.keras.layers.Conv2D(64,\n",
        "                                 kernel_size=(3,3),\n",
        "                                 strides=(1,1),\n",
        "                                 padding=\"same\",\n",
        "                                 activation=\"relu\")) #28*28*32\n",
        "\n",
        "\n",
        "model_5.add(tf.keras.layers.Conv2D(64,\n",
        "                                 kernel_size=(3,3),\n",
        "                                 strides=(1,1),\n",
        "                                 padding=\"same\",\n",
        "                                 activation=\"relu\")) #26*26*32\n",
        "\n",
        "model_5.add(tf.keras.layers.MaxPooling2D((2,2))) #13*13*32\n",
        "model_5.add(tf.keras.layers.Dropout(0.30))\n",
        "\n",
        "model_5.add(tf.keras.layers.Flatten())\n",
        "model_5.add(tf.keras.layers.Dense(256, activation=\"relu\"))\n",
        "model_5.add(tf.keras.layers.Dropout(0.50))\n",
        "\n",
        "model_5.add(tf.keras.layers.Dense(10, activation=\"softmax\"))\n",
        "model_5.compile(optimizer=\"adam\",\n",
        "              loss='categorical_crossentropy',\n",
        "              metrics=[\"accuracy\"])"
      ],
      "metadata": {
        "id": "UYGk2Qdq8jYx"
      },
      "execution_count": 76,
      "outputs": []
    },
    {
      "cell_type": "code",
      "source": [
        "results_5 = model_5.fit(X_train, y_train, epochs=35,  batch_size = 32, validation_data=(X_val, y_val))"
      ],
      "metadata": {
        "colab": {
          "base_uri": "https://localhost:8080/"
        },
        "id": "NNYTMybHmdL_",
        "outputId": "eb236b27-c567-477e-d1f0-669707fd085e"
      },
      "execution_count": 77,
      "outputs": [
        {
          "output_type": "stream",
          "name": "stdout",
          "text": [
            "Epoch 1/35\n",
            "1250/1250 [==============================] - 19s 15ms/step - loss: 2.3664 - accuracy: 0.2203 - val_loss: 1.6378 - val_accuracy: 0.4107\n",
            "Epoch 2/35\n",
            "1250/1250 [==============================] - 17s 14ms/step - loss: 1.5706 - accuracy: 0.4279 - val_loss: 1.3025 - val_accuracy: 0.5342\n",
            "Epoch 3/35\n",
            "1250/1250 [==============================] - 17s 14ms/step - loss: 1.3742 - accuracy: 0.5072 - val_loss: 1.3187 - val_accuracy: 0.5365\n",
            "Epoch 4/35\n",
            "1250/1250 [==============================] - 18s 14ms/step - loss: 1.2658 - accuracy: 0.5519 - val_loss: 1.1677 - val_accuracy: 0.5989\n",
            "Epoch 5/35\n",
            "1250/1250 [==============================] - 18s 15ms/step - loss: 1.1783 - accuracy: 0.5835 - val_loss: 1.0963 - val_accuracy: 0.6191\n",
            "Epoch 6/35\n",
            "1250/1250 [==============================] - 17s 13ms/step - loss: 1.1136 - accuracy: 0.6030 - val_loss: 1.0364 - val_accuracy: 0.6363\n",
            "Epoch 7/35\n",
            "1250/1250 [==============================] - 17s 13ms/step - loss: 1.0650 - accuracy: 0.6240 - val_loss: 1.0166 - val_accuracy: 0.6444\n",
            "Epoch 8/35\n",
            "1250/1250 [==============================] - 17s 13ms/step - loss: 1.0331 - accuracy: 0.6350 - val_loss: 0.9852 - val_accuracy: 0.6554\n",
            "Epoch 9/35\n",
            "1250/1250 [==============================] - 17s 13ms/step - loss: 0.9982 - accuracy: 0.6481 - val_loss: 1.0044 - val_accuracy: 0.6507\n",
            "Epoch 10/35\n",
            "1250/1250 [==============================] - 18s 14ms/step - loss: 0.9706 - accuracy: 0.6562 - val_loss: 0.9929 - val_accuracy: 0.6536\n",
            "Epoch 11/35\n",
            "1250/1250 [==============================] - 18s 14ms/step - loss: 0.9480 - accuracy: 0.6669 - val_loss: 1.0168 - val_accuracy: 0.6374\n",
            "Epoch 12/35\n",
            "1250/1250 [==============================] - 17s 13ms/step - loss: 0.9108 - accuracy: 0.6765 - val_loss: 1.0173 - val_accuracy: 0.6450\n",
            "Epoch 13/35\n",
            "1250/1250 [==============================] - 17s 13ms/step - loss: 0.8899 - accuracy: 0.6894 - val_loss: 0.9186 - val_accuracy: 0.6882\n",
            "Epoch 14/35\n",
            "1250/1250 [==============================] - 17s 13ms/step - loss: 0.8657 - accuracy: 0.6962 - val_loss: 1.0232 - val_accuracy: 0.6479\n",
            "Epoch 15/35\n",
            "1250/1250 [==============================] - 18s 14ms/step - loss: 0.8488 - accuracy: 0.7028 - val_loss: 0.9690 - val_accuracy: 0.6721\n",
            "Epoch 16/35\n",
            "1250/1250 [==============================] - 18s 14ms/step - loss: 0.8211 - accuracy: 0.7116 - val_loss: 0.9823 - val_accuracy: 0.6658\n",
            "Epoch 17/35\n",
            "1250/1250 [==============================] - 17s 13ms/step - loss: 0.8073 - accuracy: 0.7170 - val_loss: 0.9107 - val_accuracy: 0.6871\n",
            "Epoch 18/35\n",
            "1250/1250 [==============================] - 18s 14ms/step - loss: 0.7983 - accuracy: 0.7213 - val_loss: 0.9500 - val_accuracy: 0.6725\n",
            "Epoch 19/35\n",
            "1250/1250 [==============================] - 17s 13ms/step - loss: 0.7769 - accuracy: 0.7275 - val_loss: 0.9695 - val_accuracy: 0.6801\n",
            "Epoch 20/35\n",
            "1250/1250 [==============================] - 17s 13ms/step - loss: 0.7661 - accuracy: 0.7329 - val_loss: 0.9269 - val_accuracy: 0.6831\n",
            "Epoch 21/35\n",
            "1250/1250 [==============================] - 18s 14ms/step - loss: 0.7497 - accuracy: 0.7349 - val_loss: 0.9220 - val_accuracy: 0.6869\n",
            "Epoch 22/35\n",
            "1250/1250 [==============================] - 17s 14ms/step - loss: 0.7239 - accuracy: 0.7462 - val_loss: 0.9798 - val_accuracy: 0.6768\n",
            "Epoch 23/35\n",
            "1250/1250 [==============================] - 17s 13ms/step - loss: 0.7290 - accuracy: 0.7453 - val_loss: 0.9463 - val_accuracy: 0.6897\n",
            "Epoch 24/35\n",
            "1250/1250 [==============================] - 18s 14ms/step - loss: 0.7093 - accuracy: 0.7539 - val_loss: 0.9301 - val_accuracy: 0.6867\n",
            "Epoch 25/35\n",
            "1250/1250 [==============================] - 17s 14ms/step - loss: 0.6992 - accuracy: 0.7556 - val_loss: 0.9292 - val_accuracy: 0.7012\n",
            "Epoch 26/35\n",
            "1250/1250 [==============================] - 17s 13ms/step - loss: 0.6876 - accuracy: 0.7607 - val_loss: 0.9659 - val_accuracy: 0.6818\n",
            "Epoch 27/35\n",
            "1250/1250 [==============================] - 18s 14ms/step - loss: 0.6782 - accuracy: 0.7659 - val_loss: 0.9403 - val_accuracy: 0.6906\n",
            "Epoch 28/35\n",
            "1250/1250 [==============================] - 18s 14ms/step - loss: 0.6688 - accuracy: 0.7680 - val_loss: 1.0847 - val_accuracy: 0.6714\n",
            "Epoch 29/35\n",
            "1250/1250 [==============================] - 18s 14ms/step - loss: 0.6655 - accuracy: 0.7682 - val_loss: 0.9649 - val_accuracy: 0.6975\n",
            "Epoch 30/35\n",
            "1250/1250 [==============================] - 18s 15ms/step - loss: 0.6615 - accuracy: 0.7724 - val_loss: 0.9630 - val_accuracy: 0.6868\n",
            "Epoch 31/35\n",
            "1250/1250 [==============================] - 17s 14ms/step - loss: 0.6395 - accuracy: 0.7777 - val_loss: 0.9928 - val_accuracy: 0.6737\n",
            "Epoch 32/35\n",
            "1250/1250 [==============================] - 18s 15ms/step - loss: 0.6381 - accuracy: 0.7782 - val_loss: 1.0157 - val_accuracy: 0.6840\n",
            "Epoch 33/35\n",
            "1250/1250 [==============================] - 17s 14ms/step - loss: 0.6302 - accuracy: 0.7799 - val_loss: 0.9820 - val_accuracy: 0.6876\n",
            "Epoch 34/35\n",
            "1250/1250 [==============================] - 18s 14ms/step - loss: 0.6215 - accuracy: 0.7850 - val_loss: 0.9855 - val_accuracy: 0.6882\n",
            "Epoch 35/35\n",
            "1250/1250 [==============================] - 18s 14ms/step - loss: 0.6146 - accuracy: 0.7872 - val_loss: 1.0547 - val_accuracy: 0.6847\n"
          ]
        }
      ]
    },
    {
      "cell_type": "code",
      "source": [
        "model_5.evaluate(X_test, y_test)"
      ],
      "metadata": {
        "colab": {
          "base_uri": "https://localhost:8080/"
        },
        "id": "7S11s16Mmepw",
        "outputId": "b2a71aef-86d4-433b-d24a-317d6330bcdd"
      },
      "execution_count": 78,
      "outputs": [
        {
          "output_type": "stream",
          "name": "stdout",
          "text": [
            "313/313 [==============================] - 2s 5ms/step - loss: 1.0757 - accuracy: 0.6792\n"
          ]
        },
        {
          "output_type": "execute_result",
          "data": {
            "text/plain": [
              "[1.0756839513778687, 0.6791999936103821]"
            ]
          },
          "metadata": {},
          "execution_count": 78
        }
      ]
    },
    {
      "cell_type": "markdown",
      "source": [
        "**MODEL - 6**"
      ],
      "metadata": {
        "id": "GhPhDJEA-Jw7"
      }
    },
    {
      "cell_type": "code",
      "source": [
        "model_6 = tf.keras.Sequential()\n",
        "model_6.add(tf.keras.layers.Conv2D(32,\n",
        "                                 kernel_size=(5,5),\n",
        "                                 strides=(1,1),\n",
        "                                 padding=\"same\",\n",
        "                                 activation=\"relu\",\n",
        "                                 input_shape=(32,32,3))) # 30*30*32\n",
        "model_6.add( tf.keras.layers.Dropout(0.20))                               \n",
        "\n",
        "model_6.add(tf.keras.layers.Conv2D(32,\n",
        "                                 kernel_size=(5,5),\n",
        "                                 strides=(1,1),\n",
        "                                 padding=\"same\",\n",
        "                                 activation=\"relu\")) #28*28*32\n",
        "\n",
        "model_6.add(tf.keras.layers.Conv2D(32,\n",
        "                                 kernel_size=(5,5),\n",
        "                                 strides=(1,1),\n",
        "                                 padding=\"same\",\n",
        "                                 activation=\"relu\")) #26*26*32\n",
        "model_6.add( tf.keras.layers.Dropout(0.25))\n",
        "\n",
        "model_6.add(tf.keras.layers.Conv2D(32,\n",
        "                                 kernel_size=(5,5),\n",
        "                                 strides=(1,1),\n",
        "                                 padding=\"same\",\n",
        "                                 activation=\"relu\")) #28*28*32\n",
        "\n",
        "model_6.add(tf.keras.layers.Conv2D(32,\n",
        "                                 kernel_size=(5,5),\n",
        "                                 strides=(1,1),\n",
        "                                 padding=\"same\",\n",
        "                                 activation=\"relu\")) #26*26*32\n",
        "\n",
        "model_6.add(tf.keras.layers.MaxPooling2D((2,2))) #13*13*32\n",
        "model_6.add( tf.keras.layers.Dropout(0.30))\n",
        "\n",
        "model_6.add(tf.keras.layers.Flatten())\n",
        "model_6.add(tf.keras.layers.Dense(256, activation=\"relu\"))\n",
        "model_6.add( tf.keras.layers.Dropout(0.50))\n",
        "\n",
        "model_6.add(tf.keras.layers.Dense(10, activation=\"softmax\"))\n",
        "model_6.compile(optimizer=\"adam\",\n",
        "              loss='categorical_crossentropy',\n",
        "              metrics=[\"accuracy\"])"
      ],
      "metadata": {
        "id": "TSF349i9-LfO"
      },
      "execution_count": 79,
      "outputs": []
    },
    {
      "cell_type": "code",
      "source": [
        "results_6 = model_6.fit(X_train, y_train, epochs=35, batch_size = 32, validation_data=(X_val, y_val))"
      ],
      "metadata": {
        "colab": {
          "base_uri": "https://localhost:8080/"
        },
        "id": "tFb5NL1Y-Pso",
        "outputId": "eb48a28f-627d-4377-b99e-592ea13af833"
      },
      "execution_count": 80,
      "outputs": [
        {
          "output_type": "stream",
          "name": "stdout",
          "text": [
            "Epoch 1/35\n",
            "1250/1250 [==============================] - 15s 12ms/step - loss: 1.9721 - accuracy: 0.3001 - val_loss: 1.5269 - val_accuracy: 0.4504\n",
            "Epoch 2/35\n",
            "1250/1250 [==============================] - 16s 12ms/step - loss: 1.5754 - accuracy: 0.4268 - val_loss: 1.4854 - val_accuracy: 0.4485\n",
            "Epoch 3/35\n",
            "1250/1250 [==============================] - 14s 11ms/step - loss: 1.4701 - accuracy: 0.4688 - val_loss: 1.3241 - val_accuracy: 0.5239\n",
            "Epoch 4/35\n",
            "1250/1250 [==============================] - 16s 12ms/step - loss: 1.4156 - accuracy: 0.4895 - val_loss: 1.3681 - val_accuracy: 0.5169\n",
            "Epoch 5/35\n",
            "1250/1250 [==============================] - 14s 11ms/step - loss: 1.3646 - accuracy: 0.5120 - val_loss: 1.2659 - val_accuracy: 0.5478\n",
            "Epoch 6/35\n",
            "1250/1250 [==============================] - 15s 12ms/step - loss: 1.3260 - accuracy: 0.5248 - val_loss: 1.2497 - val_accuracy: 0.5516\n",
            "Epoch 7/35\n",
            "1250/1250 [==============================] - 14s 11ms/step - loss: 1.2953 - accuracy: 0.5405 - val_loss: 1.2715 - val_accuracy: 0.5461\n",
            "Epoch 8/35\n",
            "1250/1250 [==============================] - 15s 12ms/step - loss: 1.2604 - accuracy: 0.5517 - val_loss: 1.2434 - val_accuracy: 0.5546\n",
            "Epoch 9/35\n",
            "1250/1250 [==============================] - 15s 12ms/step - loss: 1.2651 - accuracy: 0.5488 - val_loss: 1.2132 - val_accuracy: 0.5619\n",
            "Epoch 10/35\n",
            "1250/1250 [==============================] - 14s 11ms/step - loss: 1.2137 - accuracy: 0.5683 - val_loss: 1.1684 - val_accuracy: 0.5873\n",
            "Epoch 11/35\n",
            "1250/1250 [==============================] - 15s 12ms/step - loss: 1.2147 - accuracy: 0.5662 - val_loss: 1.1671 - val_accuracy: 0.5841\n",
            "Epoch 12/35\n",
            "1250/1250 [==============================] - 15s 12ms/step - loss: 1.1852 - accuracy: 0.5789 - val_loss: 1.1826 - val_accuracy: 0.5814\n",
            "Epoch 13/35\n",
            "1250/1250 [==============================] - 15s 12ms/step - loss: 1.1682 - accuracy: 0.5827 - val_loss: 1.1772 - val_accuracy: 0.5926\n",
            "Epoch 14/35\n",
            "1250/1250 [==============================] - 14s 12ms/step - loss: 1.1645 - accuracy: 0.5867 - val_loss: 1.2015 - val_accuracy: 0.5753\n",
            "Epoch 15/35\n",
            "1250/1250 [==============================] - 14s 11ms/step - loss: 1.1555 - accuracy: 0.5857 - val_loss: 1.1755 - val_accuracy: 0.5894\n",
            "Epoch 16/35\n",
            "1250/1250 [==============================] - 15s 12ms/step - loss: 1.1160 - accuracy: 0.6022 - val_loss: 1.1236 - val_accuracy: 0.5969\n",
            "Epoch 17/35\n",
            "1250/1250 [==============================] - 15s 12ms/step - loss: 1.1176 - accuracy: 0.6051 - val_loss: 1.1221 - val_accuracy: 0.6056\n",
            "Epoch 18/35\n",
            "1250/1250 [==============================] - 14s 11ms/step - loss: 1.0983 - accuracy: 0.6066 - val_loss: 1.1847 - val_accuracy: 0.5819\n",
            "Epoch 19/35\n",
            "1250/1250 [==============================] - 15s 12ms/step - loss: 1.0949 - accuracy: 0.6124 - val_loss: 1.1458 - val_accuracy: 0.6018\n",
            "Epoch 20/35\n",
            "1250/1250 [==============================] - 15s 12ms/step - loss: 1.0740 - accuracy: 0.6174 - val_loss: 1.1504 - val_accuracy: 0.5985\n",
            "Epoch 21/35\n",
            "1250/1250 [==============================] - 14s 11ms/step - loss: 1.0746 - accuracy: 0.6179 - val_loss: 1.1236 - val_accuracy: 0.6111\n",
            "Epoch 22/35\n",
            "1250/1250 [==============================] - 14s 11ms/step - loss: 1.0678 - accuracy: 0.6235 - val_loss: 1.0935 - val_accuracy: 0.6202\n",
            "Epoch 23/35\n",
            "1250/1250 [==============================] - 14s 11ms/step - loss: 1.0439 - accuracy: 0.6274 - val_loss: 1.1110 - val_accuracy: 0.6089\n",
            "Epoch 24/35\n",
            "1250/1250 [==============================] - 14s 11ms/step - loss: 1.0307 - accuracy: 0.6356 - val_loss: 1.0956 - val_accuracy: 0.6120\n",
            "Epoch 25/35\n",
            "1250/1250 [==============================] - 16s 12ms/step - loss: 1.0134 - accuracy: 0.6427 - val_loss: 1.1983 - val_accuracy: 0.6014\n",
            "Epoch 26/35\n",
            "1250/1250 [==============================] - 15s 12ms/step - loss: 1.0164 - accuracy: 0.6398 - val_loss: 1.1519 - val_accuracy: 0.5995\n",
            "Epoch 27/35\n",
            "1250/1250 [==============================] - 14s 11ms/step - loss: 0.9936 - accuracy: 0.6459 - val_loss: 1.1039 - val_accuracy: 0.6189\n",
            "Epoch 28/35\n",
            "1250/1250 [==============================] - 14s 11ms/step - loss: 0.9861 - accuracy: 0.6513 - val_loss: 1.0913 - val_accuracy: 0.6208\n",
            "Epoch 29/35\n",
            "1250/1250 [==============================] - 14s 11ms/step - loss: 0.9862 - accuracy: 0.6510 - val_loss: 1.1304 - val_accuracy: 0.6065\n",
            "Epoch 30/35\n",
            "1250/1250 [==============================] - 16s 13ms/step - loss: 0.9632 - accuracy: 0.6583 - val_loss: 1.2214 - val_accuracy: 0.5920\n",
            "Epoch 31/35\n",
            "1250/1250 [==============================] - 14s 11ms/step - loss: 0.9608 - accuracy: 0.6576 - val_loss: 1.1277 - val_accuracy: 0.6148\n",
            "Epoch 32/35\n",
            "1250/1250 [==============================] - 16s 12ms/step - loss: 0.9566 - accuracy: 0.6628 - val_loss: 1.1682 - val_accuracy: 0.6038\n",
            "Epoch 33/35\n",
            "1250/1250 [==============================] - 16s 13ms/step - loss: 0.9395 - accuracy: 0.6701 - val_loss: 1.0986 - val_accuracy: 0.6201\n",
            "Epoch 34/35\n",
            "1250/1250 [==============================] - 16s 13ms/step - loss: 0.9118 - accuracy: 0.6759 - val_loss: 1.1358 - val_accuracy: 0.6152\n",
            "Epoch 35/35\n",
            "1250/1250 [==============================] - 15s 12ms/step - loss: 0.9316 - accuracy: 0.6680 - val_loss: 1.1172 - val_accuracy: 0.6183\n"
          ]
        }
      ]
    },
    {
      "cell_type": "code",
      "source": [
        "model_6.evaluate(X_test, y_test)"
      ],
      "metadata": {
        "colab": {
          "base_uri": "https://localhost:8080/"
        },
        "id": "SjrV4iyd-QFd",
        "outputId": "cbebc62b-465d-4109-8c3e-f8c62d0e725b"
      },
      "execution_count": 81,
      "outputs": [
        {
          "output_type": "stream",
          "name": "stdout",
          "text": [
            "313/313 [==============================] - 2s 6ms/step - loss: 1.1173 - accuracy: 0.6137\n"
          ]
        },
        {
          "output_type": "execute_result",
          "data": {
            "text/plain": [
              "[1.1172935962677002, 0.6136999726295471]"
            ]
          },
          "metadata": {},
          "execution_count": 81
        }
      ]
    },
    {
      "cell_type": "markdown",
      "source": [
        "**MODEL - 7**"
      ],
      "metadata": {
        "id": "2uyexdc6-c2w"
      }
    },
    {
      "cell_type": "code",
      "source": [
        "model_7 = tf.keras.Sequential()\n",
        "model_7.add(tf.keras.layers.Conv2D(64,\n",
        "                                 kernel_size=(5,5),\n",
        "                                 strides=(1,1),\n",
        "                                 padding=\"same\",\n",
        "                                 activation=\"relu\",\n",
        "                                 input_shape=(32,32,3))) # 30*30*32\n",
        "model_7.add( tf.keras.layers.Dropout(0.20))                               \n",
        "\n",
        "model_7.add(tf.keras.layers.Conv2D(64,\n",
        "                                 kernel_size=(5,5),\n",
        "                                 strides=(1,1),\n",
        "                                 padding=\"same\",\n",
        "                                 activation=\"relu\")) #28*28*32\n",
        "\n",
        "model_7.add(tf.keras.layers.Conv2D(64,\n",
        "                                 kernel_size=(5,5),\n",
        "                                 strides=(1,1),\n",
        "                                 padding=\"same\",\n",
        "                                 activation=\"relu\")) #26*26*32\n",
        "model_7.add( tf.keras.layers.Dropout(0.25))\n",
        "\n",
        "model_7.add(tf.keras.layers.Conv2D(64,\n",
        "                                 kernel_size=(5,5),\n",
        "                                 strides=(1,1),\n",
        "                                 padding=\"same\",\n",
        "                                 activation=\"relu\")) #28*28*32\n",
        "\n",
        "model_7.add(tf.keras.layers.Conv2D(64,\n",
        "                                 kernel_size=(5,5),\n",
        "                                 strides=(1,1),\n",
        "                                 padding=\"same\",\n",
        "                                 activation=\"relu\")) #26*26*32\n",
        "\n",
        "model_7.add(tf.keras.layers.MaxPooling2D((2,2))) #13*13*32\n",
        "model_7.add( tf.keras.layers.Dropout(0.30))\n",
        "\n",
        "model_7.add(tf.keras.layers.Flatten())\n",
        "model_7.add(tf.keras.layers.Dense(256, activation=\"relu\"))\n",
        "model_7.add( tf.keras.layers.Dropout(0.50))\n",
        "\n",
        "model_7.add(tf.keras.layers.Dense(10, activation=\"softmax\"))\n",
        "model_7.compile(optimizer=\"adam\",\n",
        "              loss='categorical_crossentropy',\n",
        "              metrics=[\"accuracy\"])"
      ],
      "metadata": {
        "id": "4aGrJICU-ffd"
      },
      "execution_count": 82,
      "outputs": []
    },
    {
      "cell_type": "code",
      "source": [
        "results_7 = model_7.fit(X_train, y_train, epochs=35, batch_size = 32, validation_data=(X_val, y_val))"
      ],
      "metadata": {
        "colab": {
          "base_uri": "https://localhost:8080/"
        },
        "id": "ij-tmaQY-hJ1",
        "outputId": "24ad95d6-18e0-47f5-8324-92da97f6acf2"
      },
      "execution_count": 83,
      "outputs": [
        {
          "output_type": "stream",
          "name": "stdout",
          "text": [
            "Epoch 1/35\n",
            "1250/1250 [==============================] - 26s 21ms/step - loss: 2.3270 - accuracy: 0.1750 - val_loss: 1.8118 - val_accuracy: 0.3339\n",
            "Epoch 2/35\n",
            "1250/1250 [==============================] - 26s 20ms/step - loss: 1.7354 - accuracy: 0.3656 - val_loss: 1.5029 - val_accuracy: 0.4574\n",
            "Epoch 3/35\n",
            "1250/1250 [==============================] - 25s 20ms/step - loss: 1.5716 - accuracy: 0.4324 - val_loss: 1.5002 - val_accuracy: 0.4627\n",
            "Epoch 4/35\n",
            "1250/1250 [==============================] - 25s 20ms/step - loss: 1.4813 - accuracy: 0.4668 - val_loss: 1.3823 - val_accuracy: 0.5078\n",
            "Epoch 5/35\n",
            "1250/1250 [==============================] - 25s 20ms/step - loss: 1.4181 - accuracy: 0.4922 - val_loss: 1.3360 - val_accuracy: 0.5132\n",
            "Epoch 6/35\n",
            "1250/1250 [==============================] - 25s 20ms/step - loss: 1.3715 - accuracy: 0.5083 - val_loss: 1.2943 - val_accuracy: 0.5421\n",
            "Epoch 7/35\n",
            "1250/1250 [==============================] - 25s 20ms/step - loss: 1.3363 - accuracy: 0.5226 - val_loss: 1.3273 - val_accuracy: 0.5280\n",
            "Epoch 8/35\n",
            "1250/1250 [==============================] - 25s 20ms/step - loss: 1.3105 - accuracy: 0.5342 - val_loss: 1.3496 - val_accuracy: 0.5123\n",
            "Epoch 9/35\n",
            "1250/1250 [==============================] - 25s 20ms/step - loss: 1.2660 - accuracy: 0.5517 - val_loss: 1.1879 - val_accuracy: 0.5792\n",
            "Epoch 10/35\n",
            "1250/1250 [==============================] - 26s 21ms/step - loss: 1.2504 - accuracy: 0.5572 - val_loss: 1.2730 - val_accuracy: 0.5373\n",
            "Epoch 11/35\n",
            "1250/1250 [==============================] - 25s 20ms/step - loss: 1.2072 - accuracy: 0.5713 - val_loss: 1.3772 - val_accuracy: 0.5067\n",
            "Epoch 12/35\n",
            "1250/1250 [==============================] - 25s 20ms/step - loss: 1.1761 - accuracy: 0.5842 - val_loss: 1.1516 - val_accuracy: 0.5981\n",
            "Epoch 13/35\n",
            "1250/1250 [==============================] - 25s 20ms/step - loss: 1.1662 - accuracy: 0.5873 - val_loss: 1.2274 - val_accuracy: 0.5726\n",
            "Epoch 14/35\n",
            "1250/1250 [==============================] - 25s 20ms/step - loss: 1.1340 - accuracy: 0.6036 - val_loss: 1.1245 - val_accuracy: 0.6060\n",
            "Epoch 15/35\n",
            "1250/1250 [==============================] - 24s 19ms/step - loss: 1.1025 - accuracy: 0.6080 - val_loss: 1.1652 - val_accuracy: 0.5842\n",
            "Epoch 16/35\n",
            "1250/1250 [==============================] - 25s 20ms/step - loss: 1.0851 - accuracy: 0.6152 - val_loss: 1.1038 - val_accuracy: 0.6107\n",
            "Epoch 17/35\n",
            "1250/1250 [==============================] - 25s 20ms/step - loss: 1.0439 - accuracy: 0.6287 - val_loss: 1.1001 - val_accuracy: 0.6111\n",
            "Epoch 18/35\n",
            "1250/1250 [==============================] - 25s 20ms/step - loss: 1.0385 - accuracy: 0.6324 - val_loss: 1.1199 - val_accuracy: 0.6137\n",
            "Epoch 19/35\n",
            "1250/1250 [==============================] - 24s 19ms/step - loss: 1.0372 - accuracy: 0.6338 - val_loss: 1.2397 - val_accuracy: 0.5817\n",
            "Epoch 20/35\n",
            "1250/1250 [==============================] - 25s 20ms/step - loss: 0.9993 - accuracy: 0.6464 - val_loss: 1.1796 - val_accuracy: 0.6037\n",
            "Epoch 21/35\n",
            "1250/1250 [==============================] - 24s 20ms/step - loss: 0.9975 - accuracy: 0.6502 - val_loss: 1.1304 - val_accuracy: 0.6140\n",
            "Epoch 22/35\n",
            "1250/1250 [==============================] - 25s 20ms/step - loss: 0.9659 - accuracy: 0.6587 - val_loss: 1.2193 - val_accuracy: 0.5808\n",
            "Epoch 23/35\n",
            "1250/1250 [==============================] - 25s 20ms/step - loss: 0.9611 - accuracy: 0.6630 - val_loss: 1.1235 - val_accuracy: 0.6206\n",
            "Epoch 24/35\n",
            "1250/1250 [==============================] - 26s 20ms/step - loss: 0.9439 - accuracy: 0.6655 - val_loss: 1.1366 - val_accuracy: 0.6112\n",
            "Epoch 25/35\n",
            "1250/1250 [==============================] - 25s 20ms/step - loss: 0.9429 - accuracy: 0.6672 - val_loss: 1.1177 - val_accuracy: 0.6219\n",
            "Epoch 26/35\n",
            "1250/1250 [==============================] - 24s 19ms/step - loss: 0.9219 - accuracy: 0.6773 - val_loss: 1.2654 - val_accuracy: 0.5725\n",
            "Epoch 27/35\n",
            "1250/1250 [==============================] - 24s 19ms/step - loss: 0.9048 - accuracy: 0.6840 - val_loss: 1.1786 - val_accuracy: 0.6056\n",
            "Epoch 28/35\n",
            "1250/1250 [==============================] - 25s 20ms/step - loss: 0.8965 - accuracy: 0.6862 - val_loss: 1.1979 - val_accuracy: 0.6178\n",
            "Epoch 29/35\n",
            "1250/1250 [==============================] - 25s 20ms/step - loss: 0.8703 - accuracy: 0.6946 - val_loss: 1.1313 - val_accuracy: 0.6263\n",
            "Epoch 30/35\n",
            "1250/1250 [==============================] - 25s 20ms/step - loss: 0.8682 - accuracy: 0.6945 - val_loss: 1.1356 - val_accuracy: 0.6185\n",
            "Epoch 31/35\n",
            "1250/1250 [==============================] - 25s 20ms/step - loss: 0.8756 - accuracy: 0.6921 - val_loss: 1.1256 - val_accuracy: 0.6200\n",
            "Epoch 32/35\n",
            "1250/1250 [==============================] - 25s 20ms/step - loss: 0.8448 - accuracy: 0.7039 - val_loss: 1.2003 - val_accuracy: 0.6188\n",
            "Epoch 33/35\n",
            "1250/1250 [==============================] - 25s 20ms/step - loss: 0.8248 - accuracy: 0.7104 - val_loss: 1.1553 - val_accuracy: 0.6157\n",
            "Epoch 34/35\n",
            "1250/1250 [==============================] - 25s 20ms/step - loss: 0.8135 - accuracy: 0.7162 - val_loss: 1.2227 - val_accuracy: 0.6036\n",
            "Epoch 35/35\n",
            "1250/1250 [==============================] - 25s 20ms/step - loss: 0.8116 - accuracy: 0.7160 - val_loss: 1.0678 - val_accuracy: 0.6369\n"
          ]
        }
      ]
    },
    {
      "cell_type": "code",
      "source": [
        "model_7.evaluate(X_test, y_test)"
      ],
      "metadata": {
        "colab": {
          "base_uri": "https://localhost:8080/"
        },
        "id": "KWN5aM0g-ieb",
        "outputId": "f4edeee7-8d59-475c-98e7-dbfa019dbb23"
      },
      "execution_count": 86,
      "outputs": [
        {
          "output_type": "stream",
          "name": "stdout",
          "text": [
            "313/313 [==============================] - 2s 8ms/step - loss: 1.1016 - accuracy: 0.6320\n"
          ]
        },
        {
          "output_type": "execute_result",
          "data": {
            "text/plain": [
              "[1.1015820503234863, 0.6320000290870667]"
            ]
          },
          "metadata": {},
          "execution_count": 86
        }
      ]
    },
    {
      "cell_type": "code",
      "source": [
        "from sklearn.metrics import confusion_matrix\n",
        "import seaborn as sns\n",
        "from matplotlib import pyplot as plt\n",
        "class_names = [\"airplane\", \"automobile\", \"bird\", \"cat\", \"deer\", \"dog\", \"frog\", \"horse\", \"ship\", \"truck\"]"
      ],
      "metadata": {
        "id": "EpypdPOAmrZe"
      },
      "execution_count": 87,
      "outputs": []
    },
    {
      "cell_type": "code",
      "source": [
        "y_preds = model_5.predict(X_test)\n",
        "y_pred=y_preds.argmax(axis=1)\n",
        "y_test=y_test.argmax(axis=1)"
      ],
      "metadata": {
        "colab": {
          "base_uri": "https://localhost:8080/"
        },
        "id": "c6X0km0ymvNb",
        "outputId": "3b8de5da-6048-4eae-a1ed-3b9996e79aad"
      },
      "execution_count": 88,
      "outputs": [
        {
          "output_type": "stream",
          "name": "stdout",
          "text": [
            "313/313 [==============================] - 1s 4ms/step\n"
          ]
        }
      ]
    },
    {
      "cell_type": "code",
      "source": [
        "cm=confusion_matrix(y_test,y_pred)\n",
        "cm_df=pd.DataFrame(cm,index=class_names,\n",
        "       columns=class_names)\n",
        "plt.figure(figsize=(20,10))\n",
        "sns.heatmap(cm_df, annot=True,cmap='BuPu', fmt='d')\n",
        "plt.title('Confusion Matrix')\n",
        "plt.ylabel('Actual Values')\n",
        "plt.xlabel('Predicted Values')\n",
        "plt.show()"
      ],
      "metadata": {
        "colab": {
          "base_uri": "https://localhost:8080/",
          "height": 621
        },
        "id": "MFM2XtxomwrM",
        "outputId": "114230be-e366-4423-df52-5adb74cc8a50"
      },
      "execution_count": 89,
      "outputs": [
        {
          "output_type": "display_data",
          "data": {
            "text/plain": [
              "<Figure size 1440x720 with 2 Axes>"
            ],
            "image/png": "[encoded data removed]"
          },
          "metadata": {
            "needs_background": "light"
          }
        }
      ]
    },
    {
      "cell_type": "code",
      "source": [
        "import random;\n",
        "test = [];\n",
        "classes = [];\n",
        "counter = 0;\n",
        "i=0;\n",
        "\n",
        "for x in range(10):\n",
        "  counter = 0;\n",
        "  i = 0;\n",
        "  while(i < len(y_test) and counter < 3):\n",
        "    if y_test[i] != x:\n",
        "      i = i + random.randint(0,100);\n",
        "    else:\n",
        "      test.append(i);\n",
        "      i = i + random.randint(0,100);\n",
        "      counter = counter + 1;\n",
        "\n",
        "print(y_test[test])\n",
        "print(test)\n"
      ],
      "metadata": {
        "colab": {
          "base_uri": "https://localhost:8080/"
        },
        "id": "KrtQAlw4myiE",
        "outputId": "ad82fd01-7fe3-4e6e-ea59-47b8de0f216f"
      },
      "execution_count": 90,
      "outputs": [
        {
          "output_type": "stream",
          "name": "stdout",
          "text": [
            "[0 0 0 1 1 1 2 2 2 3 3 3 4 4 4 5 5 5 6 6 6 7 7 7 8 8 8 9 9 9]\n",
            "[1067, 1323, 2215, 1158, 1234, 1970, 357, 436, 1110, 0, 573, 1166, 555, 1292, 1546, 275, 343, 579, 529, 1766, 2203, 1215, 1333, 1616, 197, 717, 724, 335, 364, 508]\n"
          ]
        }
      ]
    },
    {
      "cell_type": "code",
      "source": [
        "y_pred2 = []\n",
        "y_test2 = []\n",
        "\n",
        "for i in test:\n",
        "  y_pred2.append(y_pred[i])\n",
        "  y_test2.append(y_test[i])\n"
      ],
      "metadata": {
        "id": "3pNk0lGh7AQK"
      },
      "execution_count": 97,
      "outputs": []
    },
    {
      "cell_type": "code",
      "source": [
        "cm=confusion_matrix(y_test2,y_pred2)\n",
        "cm_df=pd.DataFrame(cm,index=class_names,\n",
        "       columns=class_names)\n",
        "plt.figure(figsize=(20,10))\n",
        "sns.heatmap(cm_df, annot=True,cmap='BuPu', fmt='d')\n",
        "plt.title('Confusion Matrix')\n",
        "plt.ylabel('Actual Values')\n",
        "plt.xlabel('Predicted Values')\n",
        "plt.show()"
      ],
      "metadata": {
        "colab": {
          "base_uri": "https://localhost:8080/",
          "height": 621
        },
        "id": "7qCPLmh5wNX6",
        "outputId": "652c42d8-eb7d-44ed-ac74-5f0a501f211b"
      },
      "execution_count": 99,
      "outputs": [
        {
          "output_type": "display_data",
          "data": {
            "text/plain": [
              "<Figure size 1440x720 with 2 Axes>"
            ],
            "image/png": "[encoded data removed]"
          },
          "metadata": {
            "needs_background": "light"
          }
        }
      ]
    }
  ]
}